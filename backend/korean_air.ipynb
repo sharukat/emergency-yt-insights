{
 "cells": [
  {
   "cell_type": "markdown",
   "metadata": {},
   "source": [
    "# Data Analysis - Korean Plan Crash"
   ]
  },
  {
   "cell_type": "code",
   "execution_count": 1,
   "metadata": {},
   "outputs": [],
   "source": [
    "import json\n",
    "from src.topic_modeling import BertTopic"
   ]
  },
  {
   "cell_type": "markdown",
   "metadata": {},
   "source": [
    "### Topic Modeling"
   ]
  },
  {
   "cell_type": "code",
   "execution_count": 2,
   "metadata": {},
   "outputs": [],
   "source": [
    "with open('data/korean-plane-crash.json', 'r') as file:\n",
    "    data = json.load(file)\n",
    "    \n",
    "paragraphs = [item['text'] for item in data if 'text' in item]"
   ]
  },
  {
   "cell_type": "code",
   "execution_count": 3,
   "metadata": {},
   "outputs": [
    {
     "data": {
      "text/plain": [
       "155"
      ]
     },
     "execution_count": 3,
     "metadata": {},
     "output_type": "execute_result"
    }
   ],
   "source": [
    "len(paragraphs)"
   ]
  },
  {
   "cell_type": "code",
   "execution_count": 4,
   "metadata": {},
   "outputs": [
    {
     "name": "stderr",
     "output_type": "stream",
     "text": [
      "<All keys matched successfully>\n"
     ]
    },
    {
     "data": {
      "application/vnd.jupyter.widget-view+json": {
       "model_id": "1e84a784c23d45788dbecde4e74a4790",
       "version_major": 2,
       "version_minor": 0
      },
      "text/plain": [
       "Chunks:   0%|          | 0/39 [00:00<?, ?it/s]"
      ]
     },
     "metadata": {},
     "output_type": "display_data"
    },
    {
     "data": {
      "application/vnd.jupyter.widget-view+json": {
       "model_id": "6df59445dcd749859c689950ed02b673",
       "version_major": 2,
       "version_minor": 0
      },
      "text/plain": [
       "Loading checkpoint shards:   0%|          | 0/4 [00:00<?, ?it/s]"
      ]
     },
     "metadata": {},
     "output_type": "display_data"
    },
    {
     "name": "stderr",
     "output_type": "stream",
     "text": [
      "Device set to use cuda:1\n",
      "2025-01-14 11:46:08,978 - BERTopic - Dimensionality - Fitting the dimensionality reduction algorithm\n",
      "/home/lab1/.cache/pypoetry/virtualenvs/yt-analyzer-TCrd2A9H-py3.9/lib/python3.9/site-packages/numba/np/ufunc/parallel.py:371: NumbaWarning: The TBB threading layer requires TBB version 2021 update 6 or later i.e., TBB_INTERFACE_VERSION >= 12060. Found TBB_INTERFACE_VERSION = 12050. The TBB threading layer is disabled.\n",
      "  warnings.warn(problem)\n",
      "2025-01-14 11:46:18,447 - BERTopic - Dimensionality - Completed ✓\n",
      "2025-01-14 11:46:18,448 - BERTopic - Zeroshot Step 1 - Finding documents that could be assigned to either one of the zero-shot topics\n",
      "2025-01-14 11:46:19,290 - BERTopic - Zeroshot Step 1 - Completed ✓\n",
      "2025-01-14 11:46:19,292 - BERTopic - Cluster - Start clustering the reduced embeddings\n",
      "2025-01-14 11:46:19,301 - BERTopic - Cluster - Completed ✓\n",
      "2025-01-14 11:46:19,304 - BERTopic - Representation - Extracting topics from clusters using representation models.\n",
      "  0%|          | 0/21 [00:00<?, ?it/s]Setting `pad_token_id` to `eos_token_id`:128001 for open-end generation.\n",
      "  5%|▍         | 1/21 [00:03<01:19,  3.97s/it]Setting `pad_token_id` to `eos_token_id`:128001 for open-end generation.\n",
      " 10%|▉         | 2/21 [00:05<00:48,  2.55s/it]Setting `pad_token_id` to `eos_token_id`:128001 for open-end generation.\n",
      " 14%|█▍        | 3/21 [00:06<00:35,  1.97s/it]Setting `pad_token_id` to `eos_token_id`:128001 for open-end generation.\n",
      " 19%|█▉        | 4/21 [00:07<00:27,  1.60s/it]Setting `pad_token_id` to `eos_token_id`:128001 for open-end generation.\n",
      " 24%|██▍       | 5/21 [00:08<00:22,  1.40s/it]Setting `pad_token_id` to `eos_token_id`:128001 for open-end generation.\n",
      " 29%|██▊       | 6/21 [00:10<00:20,  1.36s/it]Setting `pad_token_id` to `eos_token_id`:128001 for open-end generation.\n",
      " 33%|███▎      | 7/21 [00:11<00:18,  1.33s/it]Setting `pad_token_id` to `eos_token_id`:128001 for open-end generation.\n",
      " 38%|███▊      | 8/21 [00:37<01:59,  9.21s/it]Setting `pad_token_id` to `eos_token_id`:128001 for open-end generation.\n",
      " 43%|████▎     | 9/21 [00:38<01:19,  6.63s/it]Setting `pad_token_id` to `eos_token_id`:128001 for open-end generation.\n",
      " 48%|████▊     | 10/21 [00:39<00:54,  4.94s/it]You seem to be using the pipelines sequentially on GPU. In order to maximize efficiency please use a dataset\n",
      "Setting `pad_token_id` to `eos_token_id`:128001 for open-end generation.\n",
      " 52%|█████▏    | 11/21 [01:05<01:54, 11.49s/it]Setting `pad_token_id` to `eos_token_id`:128001 for open-end generation.\n",
      " 57%|█████▋    | 12/21 [01:07<01:15,  8.38s/it]Setting `pad_token_id` to `eos_token_id`:128001 for open-end generation.\n",
      " 62%|██████▏   | 13/21 [01:33<01:49, 13.72s/it]Setting `pad_token_id` to `eos_token_id`:128001 for open-end generation.\n",
      " 67%|██████▋   | 14/21 [01:59<02:02, 17.43s/it]Setting `pad_token_id` to `eos_token_id`:128001 for open-end generation.\n",
      " 71%|███████▏  | 15/21 [02:25<01:59, 19.97s/it]Setting `pad_token_id` to `eos_token_id`:128001 for open-end generation.\n",
      " 76%|███████▌  | 16/21 [02:50<01:48, 21.68s/it]Setting `pad_token_id` to `eos_token_id`:128001 for open-end generation.\n",
      " 81%|████████  | 17/21 [03:16<01:31, 22.91s/it]Setting `pad_token_id` to `eos_token_id`:128001 for open-end generation.\n",
      " 86%|████████▌ | 18/21 [03:42<01:11, 23.77s/it]Setting `pad_token_id` to `eos_token_id`:128001 for open-end generation.\n",
      " 90%|█████████ | 19/21 [03:43<00:33, 16.96s/it]Setting `pad_token_id` to `eos_token_id`:128001 for open-end generation.\n",
      " 95%|█████████▌| 20/21 [04:09<00:19, 19.59s/it]Setting `pad_token_id` to `eos_token_id`:128001 for open-end generation.\n",
      "100%|██████████| 21/21 [04:34<00:00, 13.08s/it]\n",
      "2025-01-14 11:50:54,149 - BERTopic - Representation - Completed ✓\n",
      "2025-01-14 11:50:54,213 - BERTopic - WARNING: You are saving a BERTopic model without explicitly defining an embedding model.If you are using a sentence-transformers model or a HuggingFace model supportedby sentence-transformers, please save the model by using a pointer towards that model.For example, `save_embedding_model='sentence-transformers/all-mpnet-base-v2'`\n"
     ]
    },
    {
     "name": "stdout",
     "output_type": "stream",
     "text": [
      "Model saved successfully.\n"
     ]
    }
   ],
   "source": [
    "BT = BertTopic()\n",
    "result = BT.get_topics(paragraphs=paragraphs, filename=\"topics_conv_dem\")"
   ]
  },
  {
   "cell_type": "code",
   "execution_count": 5,
   "metadata": {},
   "outputs": [
    {
     "data": {
      "text/plain": [
       "[' Crash of Juu Air Flight 7C2216 due to multiple technical issues.',\n",
       " ' Missing data from the last minutes of the flight led to difficulties in investigating the South Korean plane crash.',\n",
       " ' A combination of factors led to the deadly plane crash in South Korea.',\n",
       " ' Negligence in airport infrastructure and operations.',\n",
       " ' Landing gear malfunction caused a fatal plane crash.',\n",
       " ' Bird strikes and landing gear malfunctions contributed to the crash.',\n",
       " ' Technical issues and inadequate maintenance contributed to the deadliest aviation disaster in South Korea.',\n",
       " ' Mechanical failure and human error caused the crash.',\n",
       " ' Bird strikes are a significant concern for aviation safety.',\n",
       " ' Investigation into the cause of the South Korean airliner crash.',\n",
       " ' Human error and design flaws contributed to the crash.',\n",
       " ' Demographic changes and societal structure contribute to low birth rates and aging populations.',\n",
       " ' Inadequate pilot training and poor decision-making contribute to aviation accidents.',\n",
       " ' A bird strike led to a fatal plane crash.',\n",
       " ' Crash of JUJu AirFlight 2216 due to bird strike and inadequate airport infrastructure.',\n",
       " ' Human error contributes to aviation incidents.',\n",
       " ' Failure to comply with safety regulations and guidelines contributed to the Juju Air crash.',\n",
       " ' Catastrophic crash due to combination of bird strikes and technical failure.',\n",
       " ' Inadequate safety measures and lack of accountability contributed to the tragic outcome.',\n",
       " \" Boeing's culture of concealment and prioritizing profits over safety led to multiple crashes and fatalities.\",\n",
       " ' Inability to transmit critical information leads to confusion and potential disaster.']"
      ]
     },
     "execution_count": 5,
     "metadata": {},
     "output_type": "execute_result"
    }
   ],
   "source": [
    "result"
   ]
  }
 ],
 "metadata": {
  "kernelspec": {
   "display_name": "yt-analyzer-TCrd2A9H-py3.9",
   "language": "python",
   "name": "python3"
  },
  "language_info": {
   "codemirror_mode": {
    "name": "ipython",
    "version": 3
   },
   "file_extension": ".py",
   "mimetype": "text/x-python",
   "name": "python",
   "nbconvert_exporter": "python",
   "pygments_lexer": "ipython3",
   "version": "3.9.12"
  }
 },
 "nbformat": 4,
 "nbformat_minor": 2
}
